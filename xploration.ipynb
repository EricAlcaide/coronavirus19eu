{
 "cells": [
  {
   "cell_type": "code",
   "execution_count": 1,
   "metadata": {},
   "outputs": [],
   "source": [
    "import os\n",
    "import sqlite3\n",
    "import datetime\n",
    "\n",
    "import numpy as np\n",
    "import pandas as pd\n",
    "import matplotlib.pyplot as plt"
   ]
  },
  {
   "cell_type": "code",
   "execution_count": 2,
   "metadata": {},
   "outputs": [],
   "source": [
    "# create db"
   ]
  },
  {
   "cell_type": "code",
   "execution_count": 3,
   "metadata": {},
   "outputs": [],
   "source": [
    "!del covid19eu.db"
   ]
  },
  {
   "cell_type": "code",
   "execution_count": 4,
   "metadata": {},
   "outputs": [],
   "source": [
    "conn = sqlite3.connect('covid19eu.db')\n",
    "c = conn"
   ]
  },
  {
   "cell_type": "code",
   "execution_count": 5,
   "metadata": {},
   "outputs": [],
   "source": [
    "# read data"
   ]
  },
  {
   "cell_type": "code",
   "execution_count": 6,
   "metadata": {},
   "outputs": [],
   "source": [
    "file = \"cases.csv\"\n",
    "data = pd.read_csv(file)\n",
    "data[\"date\"] = [datetime.datetime.strptime(time, \"%d-%m-%Y\") for time in data[\"date\"].values]"
   ]
  },
  {
   "cell_type": "code",
   "execution_count": 7,
   "metadata": {},
   "outputs": [
    {
     "data": {
      "text/html": [
       "<div>\n",
       "<style scoped>\n",
       "    .dataframe tbody tr th:only-of-type {\n",
       "        vertical-align: middle;\n",
       "    }\n",
       "\n",
       "    .dataframe tbody tr th {\n",
       "        vertical-align: top;\n",
       "    }\n",
       "\n",
       "    .dataframe thead th {\n",
       "        text-align: right;\n",
       "    }\n",
       "</style>\n",
       "<table border=\"1\" class=\"dataframe\">\n",
       "  <thead>\n",
       "    <tr style=\"text-align: right;\">\n",
       "      <th></th>\n",
       "      <th>province</th>\n",
       "      <th>region</th>\n",
       "      <th>country</th>\n",
       "      <th>time</th>\n",
       "      <th>date</th>\n",
       "      <th>n_total_cases</th>\n",
       "      <th>n_deaths</th>\n",
       "      <th>n_active</th>\n",
       "      <th>growth_day</th>\n",
       "      <th>cycle</th>\n",
       "      <th>expect_1day_low</th>\n",
       "      <th>expect_1day_up</th>\n",
       "      <th>expect_2day_low</th>\n",
       "      <th>expect_2day_up</th>\n",
       "      <th>closest_neighbour</th>\n",
       "    </tr>\n",
       "  </thead>\n",
       "  <tbody>\n",
       "    <tr>\n",
       "      <th>0</th>\n",
       "      <td>NaN</td>\n",
       "      <td>NaN</td>\n",
       "      <td>Spain</td>\n",
       "      <td>20:00</td>\n",
       "      <td>2020-03-08</td>\n",
       "      <td>673</td>\n",
       "      <td>NaN</td>\n",
       "      <td>NaN</td>\n",
       "      <td>NaN</td>\n",
       "      <td>NaN</td>\n",
       "      <td>800.0</td>\n",
       "      <td>1200.0</td>\n",
       "      <td>1200.0</td>\n",
       "      <td>1800.0</td>\n",
       "      <td>NaN</td>\n",
       "    </tr>\n",
       "    <tr>\n",
       "      <th>1</th>\n",
       "      <td>NaN</td>\n",
       "      <td>NaN</td>\n",
       "      <td>Spain</td>\n",
       "      <td>20:00</td>\n",
       "      <td>2020-03-09</td>\n",
       "      <td>1234</td>\n",
       "      <td>30.0</td>\n",
       "      <td>NaN</td>\n",
       "      <td>NaN</td>\n",
       "      <td>NaN</td>\n",
       "      <td>1600.0</td>\n",
       "      <td>2000.0</td>\n",
       "      <td>2200.0</td>\n",
       "      <td>2800.0</td>\n",
       "      <td>NaN</td>\n",
       "    </tr>\n",
       "    <tr>\n",
       "      <th>2</th>\n",
       "      <td>NaN</td>\n",
       "      <td>NaN</td>\n",
       "      <td>France</td>\n",
       "      <td>NaN</td>\n",
       "      <td>2020-03-09</td>\n",
       "      <td>1412</td>\n",
       "      <td>30.0</td>\n",
       "      <td>NaN</td>\n",
       "      <td>NaN</td>\n",
       "      <td>NaN</td>\n",
       "      <td>NaN</td>\n",
       "      <td>NaN</td>\n",
       "      <td>NaN</td>\n",
       "      <td>NaN</td>\n",
       "      <td>NaN</td>\n",
       "    </tr>\n",
       "    <tr>\n",
       "      <th>3</th>\n",
       "      <td>NaN</td>\n",
       "      <td>NaN</td>\n",
       "      <td>Italy</td>\n",
       "      <td>NaN</td>\n",
       "      <td>2020-03-09</td>\n",
       "      <td>9172</td>\n",
       "      <td>463.0</td>\n",
       "      <td>NaN</td>\n",
       "      <td>NaN</td>\n",
       "      <td>NaN</td>\n",
       "      <td>NaN</td>\n",
       "      <td>NaN</td>\n",
       "      <td>NaN</td>\n",
       "      <td>NaN</td>\n",
       "      <td>NaN</td>\n",
       "    </tr>\n",
       "    <tr>\n",
       "      <th>4</th>\n",
       "      <td>NaN</td>\n",
       "      <td>NaN</td>\n",
       "      <td>Spain</td>\n",
       "      <td>20:00</td>\n",
       "      <td>2020-03-10</td>\n",
       "      <td>1679</td>\n",
       "      <td>35.0</td>\n",
       "      <td>1509.0</td>\n",
       "      <td>NaN</td>\n",
       "      <td>NaN</td>\n",
       "      <td>2200.0</td>\n",
       "      <td>2600.0</td>\n",
       "      <td>3000.0</td>\n",
       "      <td>3500.0</td>\n",
       "      <td>NaN</td>\n",
       "    </tr>\n",
       "  </tbody>\n",
       "</table>\n",
       "</div>"
      ],
      "text/plain": [
       "   province  region country   time       date  n_total_cases  n_deaths  \\\n",
       "0       NaN     NaN   Spain  20:00 2020-03-08            673       NaN   \n",
       "1       NaN     NaN   Spain  20:00 2020-03-09           1234      30.0   \n",
       "2       NaN     NaN  France    NaN 2020-03-09           1412      30.0   \n",
       "3       NaN     NaN   Italy    NaN 2020-03-09           9172     463.0   \n",
       "4       NaN     NaN   Spain  20:00 2020-03-10           1679      35.0   \n",
       "\n",
       "   n_active  growth_day  cycle  expect_1day_low  expect_1day_up  \\\n",
       "0       NaN         NaN    NaN            800.0          1200.0   \n",
       "1       NaN         NaN    NaN           1600.0          2000.0   \n",
       "2       NaN         NaN    NaN              NaN             NaN   \n",
       "3       NaN         NaN    NaN              NaN             NaN   \n",
       "4    1509.0         NaN    NaN           2200.0          2600.0   \n",
       "\n",
       "   expect_2day_low  expect_2day_up  closest_neighbour  \n",
       "0           1200.0          1800.0                NaN  \n",
       "1           2200.0          2800.0                NaN  \n",
       "2              NaN             NaN                NaN  \n",
       "3              NaN             NaN                NaN  \n",
       "4           3000.0          3500.0                NaN  "
      ]
     },
     "execution_count": 7,
     "metadata": {},
     "output_type": "execute_result"
    }
   ],
   "source": [
    "data.head()"
   ]
  },
  {
   "cell_type": "code",
   "execution_count": 8,
   "metadata": {},
   "outputs": [],
   "source": [
    "data.to_sql(\"cases\", c)"
   ]
  },
  {
   "cell_type": "code",
   "execution_count": 9,
   "metadata": {},
   "outputs": [],
   "source": [
    "# dump database\n",
    "# Convert file existing_db.db to SQL dump file dump.sql\n",
    "\n",
    "with open('dump.sql', 'w') as f:\n",
    "    for line in conn.iterdump():\n",
    "        f.write('%s\\n' % line)"
   ]
  },
  {
   "cell_type": "code",
   "execution_count": 10,
   "metadata": {},
   "outputs": [
    {
     "name": "stdout",
     "output_type": "stream",
     "text": [
      " El volumen de la unidad D es Nuevo vol\n",
      " El n£mero de serie del volumen es: D606-A170\n",
      "\n",
      " Directorio de D:\\Programming\\PYTHON\\HACKATHON\\coronavirus19eu\n",
      "\n",
      "11/03/2020  00:51    <DIR>          .\n",
      "11/03/2020  00:51    <DIR>          ..\n",
      "10/03/2020  00:11    <DIR>          .git\n",
      "10/03/2020  23:58                14 .gitignore\n",
      "10/03/2020  20:24    <DIR>          .ipynb_checkpoints\n",
      "11/03/2020  00:51               616 cases.csv\n",
      "11/03/2020  00:51            12.288 covid19eu.db\n",
      "10/03/2020  23:58               144 credentials.md\n",
      "11/03/2020  00:51             1.672 dump.sql\n",
      "10/03/2020  00:01             1.930 README.md\n",
      "11/03/2020  00:51             9.154 xploration.ipynb\n",
      "               7 archivos         25.818 bytes\n",
      "               4 dirs  45.283.475.456 bytes libres\n"
     ]
    }
   ],
   "source": [
    "!dir"
   ]
  },
  {
   "cell_type": "code",
   "execution_count": null,
   "metadata": {},
   "outputs": [],
   "source": []
  },
  {
   "cell_type": "code",
   "execution_count": null,
   "metadata": {},
   "outputs": [],
   "source": []
  }
 ],
 "metadata": {
  "kernelspec": {
   "display_name": "Python 3",
   "language": "python",
   "name": "python3"
  },
  "language_info": {
   "codemirror_mode": {
    "name": "ipython",
    "version": 3
   },
   "file_extension": ".py",
   "mimetype": "text/x-python",
   "name": "python",
   "nbconvert_exporter": "python",
   "pygments_lexer": "ipython3",
   "version": "3.6.7"
  }
 },
 "nbformat": 4,
 "nbformat_minor": 2
}
